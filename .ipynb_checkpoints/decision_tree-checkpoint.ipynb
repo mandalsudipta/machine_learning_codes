{
 "cells": [
  {
   "cell_type": "code",
   "execution_count": 2,
   "id": "d80dfc9a-8e19-4244-afbc-e0369e902885",
   "metadata": {},
   "outputs": [
    {
     "data": {
      "text/plain": [
       "array(['HipHop', 'Dance'], dtype=object)"
      ]
     },
     "execution_count": 2,
     "metadata": {},
     "output_type": "execute_result"
    }
   ],
   "source": [
    "import pandas as pd\n",
    "from sklearn.tree import DecisionTreeClassifier\n",
    "music_data=pd.read_csv('DataSources/music.csv')\n",
    "X = music_data.drop(columns=['genre'])\n",
    "y=music_data['genre']\n",
    "model = DecisionTreeClassifier()\n",
    "model.fit(X,y)\n",
    "# Prepare the prediction input as a DataFrame with the same column names\n",
    "input_data = pd.DataFrame([[21, 1], [22, 0]],columns=['age','gender'])\n",
    "\n",
    "# Make predictions\n",
    "predictions = model.predict(input_data)\n",
    "predictions"
   ]
  },
  {
   "cell_type": "code",
   "execution_count": null,
   "id": "814b6935-2a38-4fca-a4d7-de281281ba2e",
   "metadata": {},
   "outputs": [],
   "source": []
  }
 ],
 "metadata": {
  "kernelspec": {
   "display_name": "Python 3 (ipykernel)",
   "language": "python",
   "name": "python3"
  },
  "language_info": {
   "codemirror_mode": {
    "name": "ipython",
    "version": 3
   },
   "file_extension": ".py",
   "mimetype": "text/x-python",
   "name": "python",
   "nbconvert_exporter": "python",
   "pygments_lexer": "ipython3",
   "version": "3.11.9"
  }
 },
 "nbformat": 4,
 "nbformat_minor": 5
}
