{
  "cells": [
    {
      "cell_type": "markdown",
      "metadata": {
        "colab_type": "text",
        "id": "view-in-github"
      },
      "source": [
        "<a href=\"https://colab.research.google.com/github/mandalsudipta/machine_learning_codes/blob/main/KMeans.ipynb\" target=\"_parent\"><img src=\"https://colab.research.google.com/assets/colab-badge.svg\" alt=\"Open In Colab\"/></a>"
      ]
    },
    {
      "cell_type": "code",
      "execution_count": null,
      "metadata": {
        "colab": {
          "base_uri": "https://localhost:8080/"
        },
        "id": "cda2Uw_Ebbck",
        "outputId": "df805404-77ee-452b-ea12-428d1d522c0b"
      },
      "outputs": [],
      "source": [
        "\"\"\"\n",
        "This program finds the best value of K in KMeans algorithm using Silhouette Coefficient for 'housing.csv' dataset. The range of K values to analyze is provided as a command line parameter.\n",
        "Syntax: python assignment.py <number> <number>\n",
        "\n",
        "For example, to search best K between 3 and 6 the command line input should be:\n",
        "python assignment.py 3 6\n",
        "\"\"\"\n",
        "\n",
        "# importing the libraries\n",
        "\n",
        "\"\"\"  DO NOT MODIFY  \"\"\"\n",
        "import sys\n",
        "import pandas as pd\n",
        "from sklearn.cluster import KMeans\n",
        "from sklearn import metrics\n",
        "\"\"\"  DO NOT MODIFY  \"\"\"\n",
        "\n",
        "def find_best_kmeans(data, min_k, max_k):\n",
        "\n",
        "    best_k = min_k\n",
        "    best_score = -1\n",
        "\n",
        "    for k in range(min_k, max_k + 1):\n",
        "        kmeans = KMeans(n_clusters=k, n_init='auto', random_state=0)\n",
        "        labels = kmeans.fit_predict(data)\n",
        "        score = metrics.silhouette_score(data, labels)\n",
        "\n",
        "        # Update the best K if the current score is better\n",
        "        if score > best_score:\n",
        "            best_k = k\n",
        "            best_score = score\n",
        "\n",
        "    return best_k # Added indentation to return statement\n",
        "\n",
        "\n",
        "\"\"\"  DO NOT MODIFY  \"\"\"\n",
        "if __name__ == '__main__':\n",
        "\n",
        "    \"\"\"\n",
        "    ALERT: * * * No changes are allowed in this section  * * *\n",
        "    \"\"\"\n",
        "\n",
        "    if len(sys.argv) == 2:\n",
        "        print(\"Usage: python assignment.py <number> <number>\")\n",
        "        sys.exit(1)\n",
        "\n",
        "    input_data_one = sys.argv[1].strip()\n",
        "    input_data_two = sys.argv[2].strip()\n",
        "\n",
        "    \"\"\"  Call to function that will perform the computation. \"\"\"\n",
        "    if input_data_one.isdigit() and input_data_two.isdigit():\n",
        "\n",
        "        min_k = int(input_data_one)\n",
        "        max_k = int(input_data_two)\n",
        "        if min_k>=2 or max_k>min_k:\n",
        "            data =pd.read_csv(\"./housing.csv\")\n",
        "            print(find_best_kmeans(data, min_k, max_k))\n",
        "        else:\n",
        "           print(\"Invalid input\")\n",
        "    else:\n",
        "        print(\"Invalid input\")\n",
        "\n",
        "\n",
        "    \"\"\" End to call \"\"\""
      ]
    }
  ],
  "metadata": {
    "colab": {
      "authorship_tag": "ABX9TyNhVHCveXhYM8yXdnXpZzPp",
      "include_colab_link": true,
      "provenance": [],
      "toc_visible": true
    },
    "kernelspec": {
      "display_name": "Python 3",
      "name": "python3"
    },
    "language_info": {
      "name": "python"
    }
  },
  "nbformat": 4,
  "nbformat_minor": 0
}
